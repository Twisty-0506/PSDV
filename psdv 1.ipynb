{
 "cells": [
  {
   "cell_type": "code",
   "execution_count": null,
   "id": "4a6dd0eb-c871-4fc1-8ce5-52541ee2ee69",
   "metadata": {},
   "outputs": [],
   "source": [
    "QUES-1"
   ]
  },
  {
   "cell_type": "code",
   "execution_count": 5,
   "id": "570f0f37-f35e-424c-8dcc-c1b05569ba61",
   "metadata": {},
   "outputs": [
    {
     "name": "stdout",
     "output_type": "stream",
     "text": [
      "sum: 110\n",
      "product: 654729075\n",
      "mean= 10.5\n",
      "median= 10.5\n",
      "standard deviation= 5.766281297335398\n"
     ]
    }
   ],
   "source": [
    "l=[i for i in range(1,21)]\n",
    "print(\"sum:\",sum([i for i in l if i%2==0]))\n",
    "p=1\n",
    "for i in l:\n",
    "    if i%2!=0:\n",
    "        p*=i\n",
    "print(\"product:\",p)\n",
    "print(\"mean=\",sum(l)/20)\n",
    "print(\"median=\",21/2)\n",
    "print(\"standard deviation=\",((sum([(i-(sum(l)/20))**2 for i in l]))/19)**0.5)"
   ]
  },
  {
   "cell_type": "code",
   "execution_count": null,
   "id": "821199da-bb4d-4905-9230-eabb82957e8d",
   "metadata": {},
   "outputs": [],
   "source": [
    "QUES-2"
   ]
  },
  {
   "cell_type": "markdown",
   "id": "c9a6e1a4-9a1d-4e4b-8490-38037885e593",
   "metadata": {},
   "source": [
    "Mutable: Data types in python which can be changed during program execution.\n",
    "EXAMPLE-Lists, Dictionary.\n",
    "Immutable: Data types which can't be altered during program execution.\n",
    "EXAMPLE-Tuple"
   ]
  },
  {
   "cell_type": "code",
   "execution_count": null,
   "id": "d7877f0f-1557-4959-85a1-ad6244cc44fe",
   "metadata": {},
   "outputs": [],
   "source": [
    "QUES-3"
   ]
  },
  {
   "cell_type": "code",
   "execution_count": 4,
   "id": "a7c10aa6-5784-4a30-af32-0d528b17449c",
   "metadata": {},
   "outputs": [
    {
     "name": "stdin",
     "output_type": "stream",
     "text": [
      " 8\n"
     ]
    },
    {
     "name": "stdout",
     "output_type": "stream",
     "text": [
      "[1, 2, 3, 4, 5, 6, 7, 8]\n",
      "[1, 1, 2, 3, 5, 8, 13, 21]\n"
     ]
    },
    {
     "data": {
      "text/plain": [
       "[<matplotlib.lines.Line2D at 0x24334efbdd0>]"
      ]
     },
     "execution_count": 4,
     "metadata": {},
     "output_type": "execute_result"
    },
    {
     "data": {
      "image/png": "[encoded data removed]",
      "text/plain": [
       "<Figure size 640x480 with 1 Axes>"
      ]
     },
     "metadata": {},
     "output_type": "display_data"
    }
   ],
   "source": [
    "import matplotlib.pyplot as plt\n",
    "def f(n):\n",
    "    l=[1,1]\n",
    "    k=n-2\n",
    "    if n==1:\n",
    "        return([1])\n",
    "    elif n>1:\n",
    "        for i in range(k):\n",
    "            l.append(l[-1]+l[-2])\n",
    "        return l\n",
    "n=int(input())\n",
    "a=[i for i in range(1,n+1)]\n",
    "print(a,f(n),sep=\"\\n\")\n",
    "plt.plot(a,f(n))\n",
    "    "
   ]
  },
  {
   "cell_type": "code",
   "execution_count": null,
   "id": "960c9344-96a1-4e2a-97fc-a9ed93faf359",
   "metadata": {},
   "outputs": [],
   "source": [
    "QUES-4"
   ]
  },
  {
   "cell_type": "code",
   "execution_count": 6,
   "id": "e0f36059-9437-4f1b-99c0-08b22657009a",
   "metadata": {},
   "outputs": [
    {
     "name": "stdout",
     "output_type": "stream",
     "text": [
      "[3, 5, 7, 6, 9, 11, 13]\n",
      "[3, 5, 6, 9, 11, 13]\n",
      "reversed list: [13, 11, 9, 6, 5, 3]\n",
      "mean: 7.833333333333333\n",
      "median: 7.5\n"
     ]
    }
   ],
   "source": [
    "l=[3, 5, 7, 9, 11, 13]\n",
    "l.insert(3,6)\n",
    "print(l)\n",
    "l.remove(7)\n",
    "print(l)\n",
    "print(\"reversed list:\",[l[i] for i in range(-1,-len(l)-1,-1)])\n",
    "print(\"mean:\",sum(l)/len(l))\n",
    "print(\"median:\",(l[2]+l[3])/2)"
   ]
  },
  {
   "cell_type": "code",
   "execution_count": null,
   "id": "a51ee1b5-84ab-4b8c-9462-1dab52c72df7",
   "metadata": {},
   "outputs": [],
   "source": [
    "QUES-5"
   ]
  },
  {
   "cell_type": "code",
   "execution_count": 26,
   "id": "7a771722-a52d-431f-a1e5-3a8dea3b7260",
   "metadata": {},
   "outputs": [
    {
     "name": "stdin",
     "output_type": "stream",
     "text": [
      " 10,20,30,40\n"
     ]
    },
    {
     "name": "stdout",
     "output_type": "stream",
     "text": [
      "Mean: 25.0\n",
      "smallest: 10\n",
      "Largest: 40\n"
     ]
    },
    {
     "data": {
      "text/plain": [
       "(array([1., 0., 0., 1., 0., 0., 1., 0., 0., 1.]),\n",
       " array([10., 13., 16., 19., 22., 25., 28., 31., 34., 37., 40.]),\n",
       " <BarContainer object of 10 artists>)"
      ]
     },
     "execution_count": 26,
     "metadata": {},
     "output_type": "execute_result"
    },
    {
     "data": {
      "image/png": "[encoded data removed]",
      "text/plain": [
       "<Figure size 640x480 with 1 Axes>"
      ]
     },
     "metadata": {},
     "output_type": "display_data"
    }
   ],
   "source": [
    "l=list(map(int,input().split(\",\")))\n",
    "print(\"Mean:\",sum(l)/len(l))\n",
    "print(\"smallest:\",min(l))\n",
    "print(\"Largest:\",max(l))\n",
    "plt.hist(l,width=3)"
   ]
  },
  {
   "cell_type": "code",
   "execution_count": null,
   "id": "fc56686e-097a-4142-b4df-c35cd3287729",
   "metadata": {},
   "outputs": [],
   "source": [
    "QUES-6"
   ]
  },
  {
   "cell_type": "code",
   "execution_count": 8,
   "id": "d0b1ea77-2830-47f1-a278-d69fe94e6446",
   "metadata": {},
   "outputs": [
    {
     "name": "stdin",
     "output_type": "stream",
     "text": [
      " A man a plan a canal Panama\n"
     ]
    },
    {
     "name": "stdout",
     "output_type": "stream",
     "text": [
      "True\n"
     ]
    }
   ],
   "source": [
    "s=input().lower()\n",
    "s=\"\".join(s.split())\n",
    "k=s[-1:-len(s)-1:-1]\n",
    "if k==s:\n",
    "    print(\"True\")\n",
    "else:\n",
    "    print(\"False\")"
   ]
  },
  {
   "cell_type": "code",
   "execution_count": null,
   "id": "169e9fcb-4428-43ee-a28d-8019dd451022",
   "metadata": {},
   "outputs": [],
   "source": [
    "QUES-7"
   ]
  },
  {
   "cell_type": "code",
   "execution_count": 22,
   "id": "ac654c2e-f62b-4632-ae5b-ffabdd12e334",
   "metadata": {},
   "outputs": [
    {
     "name": "stdout",
     "output_type": "stream",
     "text": [
      "avg marks: 65.0\n",
      "Students above avg: tiya,cho\n"
     ]
    },
    {
     "data": {
      "text/plain": [
       "<BarContainer object of 4 artists>"
      ]
     },
     "execution_count": 22,
     "metadata": {},
     "output_type": "execute_result"
    },
    {
     "data": {
      "image/png": "[encoded data removed]",
      "text/plain": [
       "<Figure size 640x480 with 1 Axes>"
      ]
     },
     "metadata": {},
     "output_type": "display_data"
    }
   ],
   "source": [
    "d={\"chu\":40,\"tiya\":70,\"ben\":50,\"cho\":100}\n",
    "a=sum(list(d.values()))/len(d)\n",
    "print(\"avg marks:\",a)\n",
    "n=[i for i in d if d[i]>a]\n",
    "print(\"Students above avg:\",\",\".join(n))\n",
    "plt.bar(list(d.keys()),list(d.values()))\n"
   ]
  },
  {
   "cell_type": "code",
   "execution_count": null,
   "id": "b115cb3a-1714-4ecf-84ba-be5b25cba017",
   "metadata": {},
   "outputs": [],
   "source": [
    "QUES-8"
   ]
  },
  {
   "cell_type": "code",
   "execution_count": 27,
   "id": "5f992b26-3fc9-49e1-a7e0-6cdd7f8caf17",
   "metadata": {},
   "outputs": [
    {
     "data": {
      "text/plain": [
       "<matplotlib.collections.PathCollection at 0x2433a336930>"
      ]
     },
     "execution_count": 27,
     "metadata": {},
     "output_type": "execute_result"
    },
    {
     "data": {
      "image/png": "[encoded data removed]",
      "text/plain": [
       "<Figure size 640x480 with 1 Axes>"
      ]
     },
     "metadata": {},
     "output_type": "display_data"
    }
   ],
   "source": [
    "l=[(i,i**2) for i in range(1,11)]\n",
    "plt.scatter([i for i in range(1,11)],[i**2 for i in range(1,11)])"
   ]
  },
  {
   "cell_type": "code",
   "execution_count": null,
   "id": "7c3d36fa-6e95-4b1f-a4d1-7c914f2cfa9b",
   "metadata": {},
   "outputs": [],
   "source": [
    "QUES-9"
   ]
  },
  {
   "cell_type": "code",
   "execution_count": 28,
   "id": "6f67370c-1d49-438d-91e3-969d10927bc0",
   "metadata": {},
   "outputs": [
    {
     "name": "stdin",
     "output_type": "stream",
     "text": [
      " {'a': 10, 'b': 20}\n",
      " {'b': 5, 'c': 15}\n"
     ]
    },
    {
     "name": "stdout",
     "output_type": "stream",
     "text": [
      "d3: {'a': 10, 'b': 25, 'c': 15}\n"
     ]
    }
   ],
   "source": [
    "d1=eval(input())\n",
    "d2=eval(input())\n",
    "l=[i for i in d1 if i in d2]\n",
    "d3=d1|d2\n",
    "for i in d3:\n",
    "    if i in l:\n",
    "        d3[i]=d1[i]+d2[i]\n",
    "print(\"d3:\",d3)"
   ]
  },
  {
   "cell_type": "code",
   "execution_count": null,
   "id": "c9abd118-cc7a-43bb-b7f8-c286d8a1bd77",
   "metadata": {},
   "outputs": [],
   "source": [
    "QUES-10"
   ]
  },
  {
   "cell_type": "code",
   "execution_count": 3,
   "id": "79d2bc3f-5d81-431e-a72a-051300139833",
   "metadata": {},
   "outputs": [
    {
     "name": "stdin",
     "output_type": "stream",
     "text": [
      " a man is a man not a woman\n"
     ]
    },
    {
     "name": "stdout",
     "output_type": "stream",
     "text": [
      "a man is a man not a woman\n",
      "{'a': 3, 'is': 1, 'man': 2, 'not': 1, 'woman': 1}\n"
     ]
    },
    {
     "data": {
      "text/plain": [
       "<BarContainer object of 5 artists>"
      ]
     },
     "execution_count": 3,
     "metadata": {},
     "output_type": "execute_result"
    },
    {
     "data": {
      "image/png": "[encoded data removed]",
      "text/plain": [
       "<Figure size 640x480 with 1 Axes>"
      ]
     },
     "metadata": {},
     "output_type": "display_data"
    }
   ],
   "source": [
    "import matplotlib.pyplot as plt\n",
    "s=input()\n",
    "k=s.split()\n",
    "k.sort()\n",
    "s.lower()\n",
    "print(s)\n",
    "d={}\n",
    "for i in k:\n",
    "        if i in d:\n",
    "            d[i]+=1\n",
    "        if i not in d:\n",
    "            d[i]=1\n",
    "print(d)\n",
    "plt.bar(list(d.keys()),list(d.values()))   "
   ]
  },
  {
   "cell_type": "code",
   "execution_count": null,
   "id": "081b765e-fb74-404a-84ca-240ae8870c53",
   "metadata": {},
   "outputs": [],
   "source": [
    "QUES-11"
   ]
  },
  {
   "cell_type": "code",
   "execution_count": 8,
   "id": "4719c327-20a2-44a9-a9d3-2277b4652218",
   "metadata": {},
   "outputs": [
    {
     "name": "stdin",
     "output_type": "stream",
     "text": [
      " [1,2,2,3,5,4,3,2,7]\n"
     ]
    },
    {
     "name": "stdout",
     "output_type": "stream",
     "text": [
      "[1, 2, 3, 5, 4, 7]\n",
      "mean: 3.6666666666666665\n",
      "median: 4.0\n"
     ]
    }
   ],
   "source": [
    "s=eval(input())\n",
    "b=[]\n",
    "for i in s:\n",
    "    if i not in b:\n",
    "        b.append(i)\n",
    "print(b)\n",
    "print(\"mean:\",sum(b)/len(b))\n",
    "if len(b)%2!=0:\n",
    "    m=b[len(b)%2]\n",
    "else:\n",
    "    m=(b[len(b)%2-1]+b[len(b)%2])/2\n",
    "print(\"median:\",m)"
   ]
  },
  {
   "cell_type": "code",
   "execution_count": null,
   "id": "26126b35-20d0-4598-8f55-63bbe6c99b80",
   "metadata": {},
   "outputs": [],
   "source": [
    "QUES-12"
   ]
  },
  {
   "cell_type": "code",
   "execution_count": 2,
   "id": "440853f3-0008-44a6-a8a9-fdeae7b464ff",
   "metadata": {
    "scrolled": true
   },
   "outputs": [
    {
     "name": "stdout",
     "output_type": "stream",
     "text": [
      "The longest string is: umbrella\n",
      "Number of strings that start with a vowel: 3\n"
     ]
    },
    {
     "data": {
      "image/png": "[encoded data removed]",
      "text/plain": [
       "<Figure size 640x480 with 1 Axes>"
      ]
     },
     "metadata": {},
     "output_type": "display_data"
    }
   ],
   "source": [
    "import matplotlib.pyplot as plt\n",
    "\n",
    "def analyze_and_visualize(string_list):\n",
    "    longest_string = \"\"\n",
    "    vowel_count = 0\n",
    "    vowels = \"AEIOUaeiou\"\n",
    "    lengths = []\n",
    "\n",
    "    for string in string_list:\n",
    "        if len(string) > len(longest_string):\n",
    "            longest_string = string\n",
    "        \n",
    "        if string[0] in vowels:\n",
    "            vowel_count += 1\n",
    "        \n",
    "        lengths.append(len(string))\n",
    "\n",
    "    plt.bar(string_list,k)\n",
    "    \n",
    "    return longest_string, vowel_count\n",
    "string_list = ['apple', 'banana', 'umbrella', 'kiwi', 'orange']\n",
    "k=[len(i) for i in string_list]\n",
    "longest, vowel_start_count = analyze_and_visualize(string_list)\n",
    "print(f\"The longest string is: {longest}\")\n",
    "print(f\"Number of strings that start with a vowel: {vowel_start_count}\")"
   ]
  },
  {
   "cell_type": "code",
   "execution_count": null,
   "id": "b263c86e-94eb-4903-ae89-66c06548a1c1",
   "metadata": {},
   "outputs": [],
   "source": [
    "QUES-13"
   ]
  },
  {
   "cell_type": "code",
   "execution_count": 15,
   "id": "f0f98e4c-edee-491f-b7dc-44612c2f1b07",
   "metadata": {},
   "outputs": [
    {
     "name": "stdin",
     "output_type": "stream",
     "text": [
      " [{'name': 'Alice', 'age': 25}, {'name': 'Bob', 'age': 22}, {'name': 'Cate', 'age': 18}]\n",
      " age\n"
     ]
    },
    {
     "name": "stdout",
     "output_type": "stream",
     "text": [
      "sorted list: [{'name': 'Cate', 'age': 18}, {'name': 'Bob', 'age': 22}, {'name': 'Alice', 'age': 25}]\n"
     ]
    }
   ],
   "source": [
    "d=eval(input())\n",
    "k=input()\n",
    "l=[i[k] for i in d]\n",
    "l.sort()\n",
    "print(\"sorted list:\",[j for i in l for j in d if j[k]==i])"
   ]
  },
  {
   "cell_type": "code",
   "execution_count": null,
   "id": "6f16f291-4416-47b7-bfc3-87db5231e1f0",
   "metadata": {},
   "outputs": [],
   "source": [
    "QUES-14"
   ]
  },
  {
   "cell_type": "code",
   "execution_count": 7,
   "id": "4efdaae3-45d9-42b5-b05a-79524c4095db",
   "metadata": {},
   "outputs": [
    {
     "name": "stdin",
     "output_type": "stream",
     "text": [
      " nipun is a star\n"
     ]
    },
    {
     "name": "stdout",
     "output_type": "stream",
     "text": [
      "['nipun', 'star']\n"
     ]
    },
    {
     "data": {
      "text/plain": [
       "<BarContainer object of 2 artists>"
      ]
     },
     "execution_count": 7,
     "metadata": {},
     "output_type": "execute_result"
    },
    {
     "data": {
      "image/png": "[encoded data removed]",
      "text/plain": [
       "<Figure size 640x480 with 1 Axes>"
      ]
     },
     "metadata": {},
     "output_type": "display_data"
    }
   ],
   "source": [
    "s=input().split()\n",
    "b=[i for i in s if len(i)>=4]\n",
    "b.sort()\n",
    "print(b)\n",
    "c=[len(i) for i in b]\n",
    "plt.bar(b,c)"
   ]
  },
  {
   "cell_type": "code",
   "execution_count": null,
   "id": "6bc3a980-bdce-493b-aafc-c04c5d5b493f",
   "metadata": {},
   "outputs": [],
   "source": [
    "QUES-15"
   ]
  },
  {
   "cell_type": "code",
   "execution_count": 3,
   "id": "a8631170-2a56-4ac4-9ced-bbb2f9e1aaea",
   "metadata": {},
   "outputs": [
    {
     "name": "stdout",
     "output_type": "stream",
     "text": [
      "['enlist', 'inlets']\n"
     ]
    }
   ],
   "source": [
    "w=\"listen\"\n",
    "ws=[\"enlist\", \"google\", \"inlets\", \"banana\"]\n",
    "a=list(w)\n",
    "a.sort()\n",
    "z=[]\n",
    "for i in ws:\n",
    "    k=list(i)\n",
    "    k.sort()\n",
    "    if a==k:\n",
    "        z.append(i)\n",
    "print(z)       \n",
    "        "
   ]
  },
  {
   "cell_type": "markdown",
   "id": "abb42775-c97c-4810-bafc-eb366d7f0d21",
   "metadata": {},
   "source": [
    "QUES-16"
   ]
  },
  {
   "cell_type": "code",
   "execution_count": 12,
   "id": "8b178a53-be21-40bc-adb2-ab975a328c16",
   "metadata": {},
   "outputs": [
    {
     "name": "stdin",
     "output_type": "stream",
     "text": [
      " [\"1\",\"2\",\"3\",\"4\",\"5\"]\n",
      " [\"4\",\"5\",\"6\",\"7\"]\n"
     ]
    },
    {
     "name": "stdout",
     "output_type": "stream",
     "text": [
      "intersection: ['4', '5']\n",
      "union: ['1', '2', '3', '4', '5', '6', '7']\n",
      "symmetric difference: ['1', '2', '3', '6', '7']\n"
     ]
    },
    {
     "data": {
      "text/plain": [
       "<matplotlib_venn._common.VennDiagram at 0x1866e1a0860>"
      ]
     },
     "execution_count": 12,
     "metadata": {},
     "output_type": "execute_result"
    },
    {
     "data": {
      "image/png": "[encoded data removed]",
      "text/plain": [
       "<Figure size 640x480 with 1 Axes>"
      ]
     },
     "metadata": {},
     "output_type": "display_data"
    }
   ],
   "source": [
    "import matplotlib.pyplot as plt\n",
    "from matplotlib_venn import venn2\n",
    "a=eval(input())\n",
    "b=eval(input())\n",
    "inter=[i for i in a if i in b]\n",
    "union=a+[i for i in b if i not in a]\n",
    "sym=[i for i in union if i not in inter]\n",
    "print(\"intersection:\",inter)\n",
    "print(\"union:\",union)\n",
    "print(\"symmetric difference:\",sym)\n",
    "venn2([len(a)-len(inter),len(b)-len(inter),len(inter)], set_labels=('a', 'b'))"
   ]
  },
  {
   "cell_type": "code",
   "execution_count": null,
   "id": "8de5b666-9111-49a8-9333-2f819c49f95d",
   "metadata": {},
   "outputs": [],
   "source": [
    "QUES-17"
   ]
  },
  {
   "cell_type": "code",
   "execution_count": 1,
   "id": "aa7f36fb-f78e-45cc-947e-4c039f252c0b",
   "metadata": {},
   "outputs": [
    {
     "name": "stdin",
     "output_type": "stream",
     "text": [
      " [1,2,3,4,5]\n"
     ]
    },
    {
     "name": "stdout",
     "output_type": "stream",
     "text": [
      "1\n",
      "2\n",
      "3\n",
      "4\n",
      "5\n",
      "sum: 15\n"
     ]
    }
   ],
   "source": [
    "l=eval(input())\n",
    "b=[str(i) for i in l]\n",
    "c=0\n",
    "with open(\"file.txt\",\"w\") as f:\n",
    "    f.write(\"\\n\".join(b))\n",
    "with open(\"file.txt\",\"r\") as f:\n",
    "    print(f.read())\n",
    "print(\"sum\"sum(l))\n",
    "    \n",
    "    "
   ]
  },
  {
   "cell_type": "code",
   "execution_count": null,
   "id": "3254dc91-62f0-4443-b73a-b37c046c8053",
   "metadata": {},
   "outputs": [],
   "source": [
    "QUES-18"
   ]
  },
  {
   "cell_type": "code",
   "execution_count": 2,
   "id": "cafdfb9d-c2d6-44a0-a194-e1d425d7e88b",
   "metadata": {},
   "outputs": [
    {
     "name": "stdin",
     "output_type": "stream",
     "text": [
      " a man is a man not a woman\n"
     ]
    },
    {
     "name": "stdout",
     "output_type": "stream",
     "text": [
      "most frequent word: a\n"
     ]
    },
    {
     "data": {
      "text/plain": [
       "<BarContainer object of 5 artists>"
      ]
     },
     "execution_count": 2,
     "metadata": {},
     "output_type": "execute_result"
    },
    {
     "data": {
      "image/png": "[encoded data removed]",
      "text/plain": [
       "<Figure size 640x480 with 1 Axes>"
      ]
     },
     "metadata": {},
     "output_type": "display_data"
    }
   ],
   "source": [
    "import matplotlib.pyplot as plt\n",
    "with open(\"file.txt\",\"w\") as f:\n",
    "    f.write(input())\n",
    "d={}\n",
    "with open(\"file.txt\",\"r\") as f:\n",
    "    s=f.read().split()\n",
    "    for i in s:\n",
    "        if i in d:\n",
    "            d[i]+=1\n",
    "        if i not in d:\n",
    "            d[i]=1\n",
    "c=0\n",
    "a=\"\"\n",
    "for i in d:\n",
    "    if d[i]>c:\n",
    "        a=i\n",
    "        c=d[i]\n",
    "print(\"most frequent word:\",a)\n",
    "plt.bar(list(d.keys()),list(d.values()))"
   ]
  },
  {
   "cell_type": "code",
   "execution_count": null,
   "id": "8f0709cd-114b-4051-a425-2353e02bb166",
   "metadata": {},
   "outputs": [],
   "source": [
    "QUES-19"
   ]
  },
  {
   "cell_type": "code",
   "execution_count": 5,
   "id": "e63300cc-beb7-4b34-ae19-2814ede23b3b",
   "metadata": {},
   "outputs": [
    {
     "name": "stdout",
     "output_type": "stream",
     "text": [
      "mean: 24.4\n"
     ]
    },
    {
     "data": {
      "text/plain": [
       "(array([13., 13., 11.,  8., 11.,  7.,  9., 13.,  3., 12.]),\n",
       " array([ 2. ,  6.8, 11.6, 16.4, 21.2, 26. , 30.8, 35.6, 40.4, 45.2, 50. ]),\n",
       " <BarContainer object of 10 artists>)"
      ]
     },
     "execution_count": 5,
     "metadata": {},
     "output_type": "execute_result"
    },
    {
     "data": {
      "image/png": "[encoded data removed]",
      "text/plain": [
       "<Figure size 640x480 with 1 Axes>"
      ]
     },
     "metadata": {},
     "output_type": "display_data"
    }
   ],
   "source": [
    "import random\n",
    "l=[random.randint(1,50) for i in range(100)]\n",
    "b=[str(i) for i in l]\n",
    "with open(\"file.txt\",\"w\") as f:\n",
    "    f.write(\"\\n\".join(b))\n",
    "print(\"mean:\",sum(l)/100)\n",
    "plt.hist(l,edgecolor=\"white\")"
   ]
  },
  {
   "cell_type": "code",
   "execution_count": null,
   "id": "952f4dad-42cc-468c-b5fb-9567fd43b3f3",
   "metadata": {},
   "outputs": [],
   "source": [
    "QUES-21"
   ]
  },
  {
   "cell_type": "code",
   "execution_count": 7,
   "id": "df1c2131-88aa-4be1-9b80-2264c74a6034",
   "metadata": {},
   "outputs": [
    {
     "name": "stdin",
     "output_type": "stream",
     "text": [
      " [1,2,2,5,4,4,4,6,7]\n"
     ]
    },
    {
     "name": "stdout",
     "output_type": "stream",
     "text": [
      "mean: 3.888888888888889\n",
      "median: 2\n",
      "mode: 3\n",
      "standard deviation= 1.852592444503674\n"
     ]
    },
    {
     "data": {
      "text/plain": [
       "{'whiskers': [<matplotlib.lines.Line2D at 0x270581f5b20>,\n",
       "  <matplotlib.lines.Line2D at 0x270581f5d00>],\n",
       " 'caps': [<matplotlib.lines.Line2D at 0x270581f6000>,\n",
       "  <matplotlib.lines.Line2D at 0x270581f6300>],\n",
       " 'boxes': [<matplotlib.lines.Line2D at 0x2705606b0e0>],\n",
       " 'medians': [<matplotlib.lines.Line2D at 0x270581f65d0>],\n",
       " 'fliers': [<matplotlib.lines.Line2D at 0x270581f6840>],\n",
       " 'means': []}"
      ]
     },
     "execution_count": 7,
     "metadata": {},
     "output_type": "execute_result"
    },
    {
     "data": {
      "image/png": "[encoded data removed]",
      "text/plain": [
       "<Figure size 640x480 with 1 Axes>"
      ]
     },
     "metadata": {},
     "output_type": "display_data"
    }
   ],
   "source": [
    "b=eval(input())\n",
    "b.sort()\n",
    "d={}\n",
    "for i in b:\n",
    "        if i in d:\n",
    "            d[i]+=1\n",
    "        if i not in d:\n",
    "            d[i]=1\n",
    "c=0\n",
    "a=\"\"\n",
    "for i in d:\n",
    "    if d[i]>c:\n",
    "        a=i\n",
    "        c=d[i]\n",
    "if len(b)%2!=0:\n",
    "    m=b[len(b)%2]\n",
    "else:\n",
    "    m=(b[len(b)%2-1]+b[len(b)%2])/2\n",
    "print(\"mean:\",sum(b)/len(b))\n",
    "print(\"median:\",m)\n",
    "print(\"mode:\",c)\n",
    "print(\"standard deviation=\",((sum([(i-(sum(b)/len(b)))**2 for i in b]))/len(b))**0.5)\n",
    "plt.boxplot(b)"
   ]
  },
  {
   "cell_type": "code",
   "execution_count": null,
   "id": "03faa3de-6692-4e13-b45b-4aaa2890d247",
   "metadata": {},
   "outputs": [],
   "source": [
    "QUES-22"
   ]
  },
  {
   "cell_type": "code",
   "execution_count": 2,
   "id": "0d4e11d8-c026-45f9-a5ce-ab58feabb38a",
   "metadata": {},
   "outputs": [
    {
     "name": "stdin",
     "output_type": "stream",
     "text": [
      " [1,2,4,5,8,10,15]\n"
     ]
    },
    {
     "data": {
      "text/plain": [
       "[<matplotlib.lines.Line2D at 0x134f455c230>]"
      ]
     },
     "execution_count": 2,
     "metadata": {},
     "output_type": "execute_result"
    },
    {
     "data": {
      "image/png": "[encoded data removed]",
      "text/plain": [
       "<Figure size 640x480 with 1 Axes>"
      ]
     },
     "metadata": {},
     "output_type": "display_data"
    }
   ],
   "source": [
    "import matplotlib.pyplot as plt\n",
    "l=eval(input())\n",
    "b=[(i-min(l))/(max(l)-min(l)) for i in l]\n",
    "plt.plot(l,b)"
   ]
  },
  {
   "cell_type": "code",
   "execution_count": null,
   "id": "46005c6b-b694-4d66-9612-6ad5d9a2df4b",
   "metadata": {},
   "outputs": [],
   "source": [
    "QUES-23"
   ]
  },
  {
   "cell_type": "code",
   "execution_count": 3,
   "id": "8e535c2f-08c1-4f0e-accd-a33c3ecb5de1",
   "metadata": {},
   "outputs": [
    {
     "name": "stdin",
     "output_type": "stream",
     "text": [
      " 7\n"
     ]
    },
    {
     "name": "stdout",
     "output_type": "stream",
     "text": [
      "Odd\n"
     ]
    }
   ],
   "source": [
    "n=int(input())\n",
    "if n%2==0:\n",
    "    print(\"Even\")\n",
    "else:\n",
    "    print(\"Odd\")"
   ]
  },
  {
   "cell_type": "code",
   "execution_count": null,
   "id": "4ab8d3e2-0088-4e12-b959-feafd0ec075c",
   "metadata": {},
   "outputs": [],
   "source": [
    "QUES-24"
   ]
  },
  {
   "cell_type": "code",
   "execution_count": 4,
   "id": "7be234a3-855e-4a1e-9b2c-1efcb542807a",
   "metadata": {},
   "outputs": [
    {
     "name": "stdin",
     "output_type": "stream",
     "text": [
      " 65\n"
     ]
    },
    {
     "name": "stdout",
     "output_type": "stream",
     "text": [
      "C\n"
     ]
    }
   ],
   "source": [
    "a=int(input())\n",
    "if 90<=a<=100:\n",
    "    print(\"A\")\n",
    "elif 80<=a<=90:\n",
    "    print(\"B\")\n",
    "elif 60<=a<=80:\n",
    "    print(\"C\")\n",
    "elif 40<=a<=60:\n",
    "    print(\"D\")\n",
    "else:\n",
    "    print(\"F"
   ]
  },
  {
   "cell_type": "code",
   "execution_count": null,
   "id": "3329f760-4de4-4763-9073-ff3dff22f2ab",
   "metadata": {},
   "outputs": [],
   "source": [
    "QUES-25"
   ]
  },
  {
   "cell_type": "code",
   "execution_count": 5,
   "id": "7ad83747-242e-4f5f-b3a2-8d3c521dc0af",
   "metadata": {},
   "outputs": [
    {
     "name": "stdin",
     "output_type": "stream",
     "text": [
      " 2024\n"
     ]
    },
    {
     "name": "stdout",
     "output_type": "stream",
     "text": [
      "Yes\n"
     ]
    }
   ],
   "source": [
    "year=int(input())\n",
    "if (year % 4 == 0 and year % 100 != 0) or (year % 400 == 0):\n",
    "    print(\"Yes\")\n",
    "else:\n",
    "    print(\"No\")"
   ]
  }
 ],
 "metadata": {
  "kernelspec": {
   "display_name": "Python 3 (ipykernel)",
   "language": "python",
   "name": "python3"
  },
  "language_info": {
   "codemirror_mode": {
    "name": "ipython",
    "version": 3
   },
   "file_extension": ".py",
   "mimetype": "text/x-python",
   "name": "python",
   "nbconvert_exporter": "python",
   "pygments_lexer": "ipython3",
   "version": "3.12.8"
  }
 },
 "nbformat": 4,
 "nbformat_minor": 5
}
